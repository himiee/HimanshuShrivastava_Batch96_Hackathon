{
 "cells": [
  {
   "cell_type": "code",
   "execution_count": 1,
   "metadata": {},
   "outputs": [],
   "source": [
    "import pandas as pd\n",
    "import numpy as np\n",
    "import matplotlib.pyplot as plt\n",
    "import seaborn as sns\n",
    "\n",
    "import warnings\n",
    "warnings.filterwarnings('ignore')\n",
    "\n",
    "from sklearn.linear_model import LogisticRegression\n",
    "lr = LogisticRegression()"
   ]
  },
  {
   "cell_type": "code",
   "execution_count": 2,
   "metadata": {},
   "outputs": [],
   "source": [
    "data = pd.read_csv(r\"data.csv\")"
   ]
  },
  {
   "cell_type": "markdown",
   "metadata": {},
   "source": [
    "### EDA"
   ]
  },
  {
   "cell_type": "code",
   "execution_count": 3,
   "metadata": {},
   "outputs": [
    {
     "data": {
      "text/plain": [
       "(2227, 3)"
      ]
     },
     "execution_count": 3,
     "metadata": {},
     "output_type": "execute_result"
    }
   ],
   "source": [
    "data.shape"
   ]
  },
  {
   "cell_type": "code",
   "execution_count": 4,
   "metadata": {},
   "outputs": [
    {
     "data": {
      "text/html": [
       "<div>\n",
       "<style scoped>\n",
       "    .dataframe tbody tr th:only-of-type {\n",
       "        vertical-align: middle;\n",
       "    }\n",
       "\n",
       "    .dataframe tbody tr th {\n",
       "        vertical-align: top;\n",
       "    }\n",
       "\n",
       "    .dataframe thead th {\n",
       "        text-align: right;\n",
       "    }\n",
       "</style>\n",
       "<table border=\"1\" class=\"dataframe\">\n",
       "  <thead>\n",
       "    <tr style=\"text-align: right;\">\n",
       "      <th></th>\n",
       "      <th>x1</th>\n",
       "      <th>x2</th>\n",
       "      <th>y</th>\n",
       "    </tr>\n",
       "  </thead>\n",
       "  <tbody>\n",
       "    <tr>\n",
       "      <th>count</th>\n",
       "      <td>2222.000000</td>\n",
       "      <td>2.224000e+03</td>\n",
       "      <td>2227.000000</td>\n",
       "    </tr>\n",
       "    <tr>\n",
       "      <th>mean</th>\n",
       "      <td>-4.818766</td>\n",
       "      <td>8.947626e+04</td>\n",
       "      <td>0.442299</td>\n",
       "    </tr>\n",
       "    <tr>\n",
       "      <th>std</th>\n",
       "      <td>74.939909</td>\n",
       "      <td>2.983323e+06</td>\n",
       "      <td>0.496771</td>\n",
       "    </tr>\n",
       "    <tr>\n",
       "      <th>min</th>\n",
       "      <td>-134.369160</td>\n",
       "      <td>-1.348761e+02</td>\n",
       "      <td>0.000000</td>\n",
       "    </tr>\n",
       "    <tr>\n",
       "      <th>25%</th>\n",
       "      <td>-71.757030</td>\n",
       "      <td>-8.012983e+01</td>\n",
       "      <td>0.000000</td>\n",
       "    </tr>\n",
       "    <tr>\n",
       "      <th>50%</th>\n",
       "      <td>-9.836555</td>\n",
       "      <td>-1.046151e+00</td>\n",
       "      <td>0.000000</td>\n",
       "    </tr>\n",
       "    <tr>\n",
       "      <th>75%</th>\n",
       "      <td>59.813962</td>\n",
       "      <td>6.389086e+01</td>\n",
       "      <td>1.000000</td>\n",
       "    </tr>\n",
       "    <tr>\n",
       "      <th>max</th>\n",
       "      <td>134.508687</td>\n",
       "      <td>1.000000e+08</td>\n",
       "      <td>1.000000</td>\n",
       "    </tr>\n",
       "  </tbody>\n",
       "</table>\n",
       "</div>"
      ],
      "text/plain": [
       "                x1            x2            y\n",
       "count  2222.000000  2.224000e+03  2227.000000\n",
       "mean     -4.818766  8.947626e+04     0.442299\n",
       "std      74.939909  2.983323e+06     0.496771\n",
       "min    -134.369160 -1.348761e+02     0.000000\n",
       "25%     -71.757030 -8.012983e+01     0.000000\n",
       "50%      -9.836555 -1.046151e+00     0.000000\n",
       "75%      59.813962  6.389086e+01     1.000000\n",
       "max     134.508687  1.000000e+08     1.000000"
      ]
     },
     "execution_count": 4,
     "metadata": {},
     "output_type": "execute_result"
    }
   ],
   "source": [
    "data.describe()"
   ]
  },
  {
   "cell_type": "code",
   "execution_count": 5,
   "metadata": {},
   "outputs": [
    {
     "name": "stdout",
     "output_type": "stream",
     "text": [
      "<class 'pandas.core.frame.DataFrame'>\n",
      "RangeIndex: 2227 entries, 0 to 2226\n",
      "Data columns (total 3 columns):\n",
      " #   Column  Non-Null Count  Dtype  \n",
      "---  ------  --------------  -----  \n",
      " 0   x1      2222 non-null   float64\n",
      " 1   x2      2224 non-null   float64\n",
      " 2   y       2227 non-null   int64  \n",
      "dtypes: float64(2), int64(1)\n",
      "memory usage: 52.3 KB\n"
     ]
    }
   ],
   "source": [
    "data.info()"
   ]
  },
  {
   "cell_type": "code",
   "execution_count": 6,
   "metadata": {},
   "outputs": [
    {
     "name": "stdout",
     "output_type": "stream",
     "text": [
      "-9.836555486\n",
      "-1.04615092\n"
     ]
    }
   ],
   "source": [
    "print(data['x1'].median())\n",
    "print(data['x2'].median())\n",
    "\n",
    "data['x1'].fillna(data['x1'].median(), inplace = True)\n",
    "data['x2'].fillna(data['x2'].median(), inplace = True)\n"
   ]
  },
  {
   "cell_type": "code",
   "execution_count": 7,
   "metadata": {},
   "outputs": [
    {
     "name": "stdout",
     "output_type": "stream",
     "text": [
      "<class 'pandas.core.frame.DataFrame'>\n",
      "RangeIndex: 2227 entries, 0 to 2226\n",
      "Data columns (total 3 columns):\n",
      " #   Column  Non-Null Count  Dtype  \n",
      "---  ------  --------------  -----  \n",
      " 0   x1      2227 non-null   float64\n",
      " 1   x2      2227 non-null   float64\n",
      " 2   y       2227 non-null   int64  \n",
      "dtypes: float64(2), int64(1)\n",
      "memory usage: 52.3 KB\n"
     ]
    }
   ],
   "source": [
    "data.info()"
   ]
  },
  {
   "cell_type": "code",
   "execution_count": null,
   "metadata": {},
   "outputs": [],
   "source": [
    "\n"
   ]
  },
  {
   "cell_type": "code",
   "execution_count": null,
   "metadata": {},
   "outputs": [],
   "source": []
  },
  {
   "cell_type": "code",
   "execution_count": 8,
   "metadata": {},
   "outputs": [],
   "source": [
    "data['x2_log'] = np.log(data['x2'])"
   ]
  },
  {
   "cell_type": "code",
   "execution_count": null,
   "metadata": {},
   "outputs": [],
   "source": []
  },
  {
   "cell_type": "code",
   "execution_count": null,
   "metadata": {},
   "outputs": [],
   "source": []
  },
  {
   "cell_type": "code",
   "execution_count": 9,
   "metadata": {},
   "outputs": [
    {
     "name": "stdout",
     "output_type": "stream",
     "text": [
      "AxesSubplot(0.125,0.125;0.227941x0.755)\n",
      "AxesSubplot(0.398529,0.125;0.227941x0.755)\n",
      "AxesSubplot(0.672059,0.125;0.227941x0.755)\n"
     ]
    },
    {
     "data": {
      "image/png": "[encoded data removed]",
      "text/plain": [
       "<Figure size 576x216 with 3 Axes>"
      ]
     },
     "metadata": {
      "needs_background": "light"
     },
     "output_type": "display_data"
    }
   ],
   "source": [
    "#plot outliers\n",
    "\n",
    "plt.figure(figsize = (8,3))\n",
    "\n",
    "plt.subplot(131)\n",
    "print(sns.boxplot(data['x1']))\n",
    "plt.subplot(132)\n",
    "print(sns.boxplot((data['x2'])))\n",
    "plt.subplot(133)\n",
    "print(sns.boxplot((data['x2_log'])))"
   ]
  },
  {
   "cell_type": "code",
   "execution_count": null,
   "metadata": {},
   "outputs": [],
   "source": []
  },
  {
   "cell_type": "code",
   "execution_count": 10,
   "metadata": {},
   "outputs": [
    {
     "name": "stdout",
     "output_type": "stream",
     "text": [
      "AxesSubplot(0.125,0.125;0.227941x0.755)\n",
      "AxesSubplot(0.398529,0.125;0.227941x0.755)\n",
      "AxesSubplot(0.672059,0.125;0.227941x0.755)\n"
     ]
    },
    {
     "data": {
      "image/png": "[encoded data removed]",
      "text/plain": [
       "<Figure size 576x216 with 3 Axes>"
      ]
     },
     "metadata": {
      "needs_background": "light"
     },
     "output_type": "display_data"
    }
   ],
   "source": [
    "#plot outliers\n",
    "\n",
    "plt.figure(figsize = (8,3))\n",
    "\n",
    "plt.subplot(131)\n",
    "print(sns.boxplot(data['x1']))\n",
    "plt.subplot(132)\n",
    "print(sns.boxplot((data['x2'])))\n",
    "plt.subplot(133)\n",
    "print(sns.boxplot((data['x2_log'])))"
   ]
  },
  {
   "cell_type": "markdown",
   "metadata": {},
   "source": [
    "### IQR"
   ]
  },
  {
   "cell_type": "code",
   "execution_count": 13,
   "metadata": {},
   "outputs": [
    {
     "name": "stdout",
     "output_type": "stream",
     "text": [
      "AxesSubplot(0.125,0.125;0.775x0.755)\n"
     ]
    },
    {
     "data": {
      "image/png": "[encoded data removed]",
      "text/plain": [
       "<Figure size 576x216 with 1 Axes>"
      ]
     },
     "metadata": {
      "needs_background": "light"
     },
     "output_type": "display_data"
    }
   ],
   "source": [
    "Q1 = data['x2_log'].quantile(0.25)\n",
    "Q3 = data['x2_log'].quantile(0.75)\n",
    "IQR = Q3-Q1\n",
    "\n",
    "lower =  Q1-1.5*IQR\n",
    "upper = Q3+1.5*IQR\n",
    "\n",
    "\n",
    "data.drop(data[data['x2_log']>upper].index, inplace = True)\n",
    "data.drop(data[data['x2_log']<lower].index, inplace = True)\n",
    "\n",
    "\n",
    "#plot outliers\n",
    "\n",
    "plt.figure(figsize = (8,3))\n",
    "print(sns.boxplot(np.log(data['x2'])))"
   ]
  },
  {
   "cell_type": "code",
   "execution_count": 14,
   "metadata": {},
   "outputs": [
    {
     "data": {
      "text/plain": [
       "(2153, 4)"
      ]
     },
     "execution_count": 14,
     "metadata": {},
     "output_type": "execute_result"
    }
   ],
   "source": [
    "data.shape"
   ]
  },
  {
   "cell_type": "code",
   "execution_count": 15,
   "metadata": {},
   "outputs": [],
   "source": [
    "data = data[['x1','x2','x2_log','y']]"
   ]
  },
  {
   "cell_type": "code",
   "execution_count": 16,
   "metadata": {},
   "outputs": [
    {
     "name": "stdout",
     "output_type": "stream",
     "text": [
      "AxesSubplot(0.125,0.125;0.352273x0.755)\n",
      "AxesSubplot(0.547727,0.125;0.352273x0.755)\n"
     ]
    },
    {
     "data": {
      "image/png": "[encoded data removed]",
      "text/plain": [
       "<Figure size 576x216 with 2 Axes>"
      ]
     },
     "metadata": {
      "needs_background": "light"
     },
     "output_type": "display_data"
    }
   ],
   "source": [
    "#Check outliers after removing \n",
    "\n",
    "plt.figure(figsize = (8,3))\n",
    "\n",
    "plt.subplot(121)\n",
    "print(sns.boxplot(data['x1']))\n",
    "plt.subplot(122)\n",
    "print(sns.boxplot((data['x2_log'])))"
   ]
  },
  {
   "cell_type": "markdown",
   "metadata": {},
   "source": [
    "### Distribution"
   ]
  },
  {
   "cell_type": "code",
   "execution_count": 17,
   "metadata": {},
   "outputs": [
    {
     "data": {
      "text/plain": [
       "<AxesSubplot:xlabel='x2_log', ylabel='Density'>"
      ]
     },
     "execution_count": 17,
     "metadata": {},
     "output_type": "execute_result"
    },
    {
     "data": {
      "image/png": "[encoded data removed]",
      "text/plain": [
       "<Figure size 576x216 with 3 Axes>"
      ]
     },
     "metadata": {
      "needs_background": "light"
     },
     "output_type": "display_data"
    }
   ],
   "source": [
    "plt.figure(figsize = (8,3))\n",
    "plt.subplot(131)\n",
    "sns.distplot(data['x1'])\n",
    "plt.subplot(132)\n",
    "sns.distplot((data['x2']))\n",
    "plt.subplot(133)\n",
    "sns.distplot((data['x2_log']))\n",
    "\n",
    "\n"
   ]
  },
  {
   "cell_type": "markdown",
   "metadata": {},
   "source": [
    "### Correlation"
   ]
  },
  {
   "cell_type": "code",
   "execution_count": 19,
   "metadata": {},
   "outputs": [
    {
     "data": {
      "text/plain": [
       "<AxesSubplot:>"
      ]
     },
     "execution_count": 19,
     "metadata": {},
     "output_type": "execute_result"
    },
    {
     "data": {
      "image/png": "[encoded data removed]",
      "text/plain": [
       "<Figure size 432x288 with 2 Axes>"
      ]
     },
     "metadata": {
      "needs_background": "light"
     },
     "output_type": "display_data"
    }
   ],
   "source": [
    "sns.heatmap(data.corr())\n"
   ]
  },
  {
   "cell_type": "code",
   "execution_count": null,
   "metadata": {},
   "outputs": [],
   "source": []
  },
  {
   "cell_type": "code",
   "execution_count": 348,
   "metadata": {},
   "outputs": [],
   "source": [
    "\n"
   ]
  },
  {
   "cell_type": "code",
   "execution_count": null,
   "metadata": {},
   "outputs": [],
   "source": []
  },
  {
   "cell_type": "code",
   "execution_count": null,
   "metadata": {},
   "outputs": [],
   "source": []
  },
  {
   "cell_type": "code",
   "execution_count": null,
   "metadata": {},
   "outputs": [],
   "source": []
  },
  {
   "cell_type": "code",
   "execution_count": null,
   "metadata": {},
   "outputs": [],
   "source": []
  },
  {
   "cell_type": "code",
   "execution_count": 21,
   "metadata": {},
   "outputs": [],
   "source": [
    "df = data[['x1','x2_log','y']]"
   ]
  },
  {
   "cell_type": "code",
   "execution_count": 22,
   "metadata": {},
   "outputs": [],
   "source": [
    "df['x2_log'].fillna(df['x2_log'].median(), inplace = True)"
   ]
  },
  {
   "cell_type": "markdown",
   "metadata": {},
   "source": [
    "***Here we filled na in log because na were throwing error in Logistic regression ***"
   ]
  },
  {
   "cell_type": "code",
   "execution_count": 23,
   "metadata": {},
   "outputs": [
    {
     "name": "stdout",
     "output_type": "stream",
     "text": [
      "<class 'pandas.core.frame.DataFrame'>\n",
      "Int64Index: 2153 entries, 0 to 2225\n",
      "Data columns (total 3 columns):\n",
      " #   Column  Non-Null Count  Dtype  \n",
      "---  ------  --------------  -----  \n",
      " 0   x1      2153 non-null   float64\n",
      " 1   x2_log  2153 non-null   float64\n",
      " 2   y       2153 non-null   int64  \n",
      "dtypes: float64(2), int64(1)\n",
      "memory usage: 67.3 KB\n"
     ]
    }
   ],
   "source": [
    "df.info()"
   ]
  },
  {
   "cell_type": "markdown",
   "metadata": {},
   "source": [
    "### Splitting data in train and test "
   ]
  },
  {
   "cell_type": "code",
   "execution_count": 24,
   "metadata": {},
   "outputs": [],
   "source": [
    "from sklearn.preprocessing import StandardScaler\n",
    "ss = StandardScaler()\n",
    "# Features and Target Selection \n",
    "X = df.iloc[:,:-1]\n",
    "y = df.iloc[:,-1]\n",
    "\n",
    "# Fit features with Standred sScalling \n",
    "#X = ss.fit_transform(X)"
   ]
  },
  {
   "cell_type": "markdown",
   "metadata": {},
   "source": [
    "### Step - 2: Train different Machine Learning models:"
   ]
  },
  {
   "cell_type": "markdown",
   "metadata": {},
   "source": [
    "### Logistic Regression "
   ]
  },
  {
   "cell_type": "code",
   "execution_count": 27,
   "metadata": {},
   "outputs": [
    {
     "name": "stdout",
     "output_type": "stream",
     "text": [
      "Base Model Accuarcy :  57.30858468677494 %\n",
      "Base Model precision :  0.49038461538461536\n",
      "Standred Scaller Base recall :  0.2802197802197802\n"
     ]
    }
   ],
   "source": [
    "from sklearn.model_selection import train_test_split\n",
    "X_train, X_test, y_train, y_test  =train_test_split(X,y,test_size=0.2, random_state=2)\n",
    "\n",
    "from sklearn.metrics import accuracy_score,precision_score,recall_score,confusion_matrix\n",
    "\n",
    "\n",
    "from sklearn.linear_model import LogisticRegression\n",
    "logreg = LogisticRegression()\n",
    "logreg.fit(X_train,y_train)\n",
    "y_pred = logreg.predict(X_test)\n",
    "\n",
    "print('Base Model Accuarcy : ',accuracy_score(y_test,y_pred)*100,'%')\n",
    "print('Base Model precision : ',precision_score(y_test,y_pred))\n",
    "print('Standred Scaller Base recall : ',recall_score(y_test,y_pred))"
   ]
  },
  {
   "cell_type": "markdown",
   "metadata": {},
   "source": [
    "### SVM with Linear Kernal"
   ]
  },
  {
   "cell_type": "code",
   "execution_count": 28,
   "metadata": {},
   "outputs": [
    {
     "ename": "KeyboardInterrupt",
     "evalue": "",
     "output_type": "error",
     "traceback": [
      "\u001b[1;31m---------------------------------------------------------------------------\u001b[0m",
      "\u001b[1;31mKeyboardInterrupt\u001b[0m                         Traceback (most recent call last)",
      "\u001b[1;32m<ipython-input-28-91bf710426fa>\u001b[0m in \u001b[0;36m<module>\u001b[1;34m\u001b[0m\n\u001b[0;32m      6\u001b[0m \u001b[1;33m\u001b[0m\u001b[0m\n\u001b[0;32m      7\u001b[0m \u001b[0msvmlinear\u001b[0m \u001b[1;33m=\u001b[0m \u001b[0msvm\u001b[0m\u001b[1;33m.\u001b[0m\u001b[0mSVC\u001b[0m\u001b[1;33m(\u001b[0m\u001b[0mkernel\u001b[0m \u001b[1;33m=\u001b[0m\u001b[1;34m'linear'\u001b[0m\u001b[1;33m)\u001b[0m\u001b[1;33m\u001b[0m\u001b[1;33m\u001b[0m\u001b[0m\n\u001b[1;32m----> 8\u001b[1;33m \u001b[0msvmlinear\u001b[0m\u001b[1;33m.\u001b[0m\u001b[0mfit\u001b[0m\u001b[1;33m(\u001b[0m\u001b[0mX_train\u001b[0m\u001b[1;33m,\u001b[0m\u001b[0my_train\u001b[0m\u001b[1;33m)\u001b[0m\u001b[1;33m\u001b[0m\u001b[1;33m\u001b[0m\u001b[0m\n\u001b[0m\u001b[0;32m      9\u001b[0m \u001b[0my_pred\u001b[0m \u001b[1;33m=\u001b[0m \u001b[0msvmlinear\u001b[0m\u001b[1;33m.\u001b[0m\u001b[0mpredict\u001b[0m\u001b[1;33m(\u001b[0m\u001b[0mX_test\u001b[0m\u001b[1;33m)\u001b[0m\u001b[1;33m\u001b[0m\u001b[1;33m\u001b[0m\u001b[0m\n\u001b[0;32m     10\u001b[0m \u001b[1;33m\u001b[0m\u001b[0m\n",
      "\u001b[1;32m~\\anaconda3\\lib\\site-packages\\sklearn\\svm\\_base.py\u001b[0m in \u001b[0;36mfit\u001b[1;34m(self, X, y, sample_weight)\u001b[0m\n\u001b[0;32m    224\u001b[0m \u001b[1;33m\u001b[0m\u001b[0m\n\u001b[0;32m    225\u001b[0m         \u001b[0mseed\u001b[0m \u001b[1;33m=\u001b[0m \u001b[0mrnd\u001b[0m\u001b[1;33m.\u001b[0m\u001b[0mrandint\u001b[0m\u001b[1;33m(\u001b[0m\u001b[0mnp\u001b[0m\u001b[1;33m.\u001b[0m\u001b[0miinfo\u001b[0m\u001b[1;33m(\u001b[0m\u001b[1;34m'i'\u001b[0m\u001b[1;33m)\u001b[0m\u001b[1;33m.\u001b[0m\u001b[0mmax\u001b[0m\u001b[1;33m)\u001b[0m\u001b[1;33m\u001b[0m\u001b[1;33m\u001b[0m\u001b[0m\n\u001b[1;32m--> 226\u001b[1;33m         \u001b[0mfit\u001b[0m\u001b[1;33m(\u001b[0m\u001b[0mX\u001b[0m\u001b[1;33m,\u001b[0m \u001b[0my\u001b[0m\u001b[1;33m,\u001b[0m \u001b[0msample_weight\u001b[0m\u001b[1;33m,\u001b[0m \u001b[0msolver_type\u001b[0m\u001b[1;33m,\u001b[0m \u001b[0mkernel\u001b[0m\u001b[1;33m,\u001b[0m \u001b[0mrandom_seed\u001b[0m\u001b[1;33m=\u001b[0m\u001b[0mseed\u001b[0m\u001b[1;33m)\u001b[0m\u001b[1;33m\u001b[0m\u001b[1;33m\u001b[0m\u001b[0m\n\u001b[0m\u001b[0;32m    227\u001b[0m         \u001b[1;31m# see comment on the other call to np.iinfo in this file\u001b[0m\u001b[1;33m\u001b[0m\u001b[1;33m\u001b[0m\u001b[1;33m\u001b[0m\u001b[0m\n\u001b[0;32m    228\u001b[0m \u001b[1;33m\u001b[0m\u001b[0m\n",
      "\u001b[1;32m~\\anaconda3\\lib\\site-packages\\sklearn\\svm\\_base.py\u001b[0m in \u001b[0;36m_dense_fit\u001b[1;34m(self, X, y, sample_weight, solver_type, kernel, random_seed)\u001b[0m\n\u001b[0;32m    275\u001b[0m         \u001b[0mself\u001b[0m\u001b[1;33m.\u001b[0m\u001b[0msupport_\u001b[0m\u001b[1;33m,\u001b[0m \u001b[0mself\u001b[0m\u001b[1;33m.\u001b[0m\u001b[0msupport_vectors_\u001b[0m\u001b[1;33m,\u001b[0m \u001b[0mself\u001b[0m\u001b[1;33m.\u001b[0m\u001b[0m_n_support\u001b[0m\u001b[1;33m,\u001b[0m\u001b[0;31m \u001b[0m\u001b[0;31m\\\u001b[0m\u001b[1;33m\u001b[0m\u001b[1;33m\u001b[0m\u001b[0m\n\u001b[0;32m    276\u001b[0m             \u001b[0mself\u001b[0m\u001b[1;33m.\u001b[0m\u001b[0mdual_coef_\u001b[0m\u001b[1;33m,\u001b[0m \u001b[0mself\u001b[0m\u001b[1;33m.\u001b[0m\u001b[0mintercept_\u001b[0m\u001b[1;33m,\u001b[0m \u001b[0mself\u001b[0m\u001b[1;33m.\u001b[0m\u001b[0m_probA\u001b[0m\u001b[1;33m,\u001b[0m\u001b[0;31m \u001b[0m\u001b[0;31m\\\u001b[0m\u001b[1;33m\u001b[0m\u001b[1;33m\u001b[0m\u001b[0m\n\u001b[1;32m--> 277\u001b[1;33m             self._probB, self.fit_status_ = libsvm.fit(\n\u001b[0m\u001b[0;32m    278\u001b[0m                 \u001b[0mX\u001b[0m\u001b[1;33m,\u001b[0m \u001b[0my\u001b[0m\u001b[1;33m,\u001b[0m\u001b[1;33m\u001b[0m\u001b[1;33m\u001b[0m\u001b[0m\n\u001b[0;32m    279\u001b[0m                 \u001b[0msvm_type\u001b[0m\u001b[1;33m=\u001b[0m\u001b[0msolver_type\u001b[0m\u001b[1;33m,\u001b[0m \u001b[0msample_weight\u001b[0m\u001b[1;33m=\u001b[0m\u001b[0msample_weight\u001b[0m\u001b[1;33m,\u001b[0m\u001b[1;33m\u001b[0m\u001b[1;33m\u001b[0m\u001b[0m\n",
      "\u001b[1;31mKeyboardInterrupt\u001b[0m: "
     ]
    }
   ],
   "source": [
    "#SVM kernal Linear Classification\n",
    "\n",
    "from sklearn import svm\n",
    "from sklearn import metrics\n",
    "\n",
    "\n",
    "svmlinear = svm.SVC(kernel ='linear')\n",
    "svmlinear.fit(X_train,y_train)\n",
    "y_pred = svmlinear.predict(X_test)\n",
    "\n",
    "print('Base Model Accuracy: ', accuracy_score(y_test, y_pred))\n",
    "print('Base Model Precision: ', precision_score(y_test, y_pred))\n",
    "print('Base Model Recall: ', recall_score(y_test, y_pred))"
   ]
  },
  {
   "cell_type": "markdown",
   "metadata": {},
   "source": [
    "### SVM with RBF"
   ]
  },
  {
   "cell_type": "code",
   "execution_count": null,
   "metadata": {},
   "outputs": [],
   "source": [
    "#SVM kernal Linear Classification\n",
    "\n",
    "from sklearn import svm\n",
    "from sklearn import metrics\n",
    "\n",
    "\n",
    "svmlinear = svm.SVC(kernel ='rbf')\n",
    "svmlinear.fit(X_train,y_train)\n",
    "y_pred = svmlinear.predict(X_test)\n",
    "\n",
    "print('Base Model Accuracy: ', accuracy_score(y_test, y_pred))\n",
    "print('Base Model Precision: ', precision_score(y_test, y_pred))\n",
    "print('Base Model Recall: ', recall_score(y_test, y_pred))"
   ]
  },
  {
   "cell_type": "markdown",
   "metadata": {},
   "source": [
    "### Decision Tree Classification"
   ]
  },
  {
   "cell_type": "code",
   "execution_count": 381,
   "metadata": {},
   "outputs": [
    {
     "name": "stdout",
     "output_type": "stream",
     "text": [
      "Base Model Accuracy:  0.9071925754060325\n",
      "Base Model Precision:  0.8944444444444445\n",
      "Base Model Recall:  0.8846153846153846\n"
     ]
    }
   ],
   "source": [
    "from sklearn.tree import DecisionTreeClassifier\n",
    "dtreg = DecisionTreeClassifier()\n",
    "dtreg.fit(X_train, y_train)\n",
    "y_pred = dtreg.predict(X_test)\n",
    "\n",
    "print('Base Model Accuracy: ', accuracy_score(y_test, y_pred))\n",
    "print('Base Model Precision: ', precision_score(y_test, y_pred))\n",
    "print('Base Model Recall: ', recall_score(y_test, y_pred))"
   ]
  },
  {
   "cell_type": "markdown",
   "metadata": {},
   "source": [
    "### KNN "
   ]
  },
  {
   "cell_type": "code",
   "execution_count": 29,
   "metadata": {},
   "outputs": [
    {
     "name": "stdout",
     "output_type": "stream",
     "text": [
      "Base Model Accuracy:  0.6496519721577726\n",
      "Base Model Precision:  0.5875706214689266\n",
      "Base Model Recall:  0.5714285714285714\n"
     ]
    }
   ],
   "source": [
    "from sklearn.neighbors import KNeighborsClassifier\n",
    "\n",
    "knn = KNeighborsClassifier()\n",
    "knn.fit(X_train, y_train)\n",
    "y_pred = knn.predict(X_test)\n",
    "\n",
    "\n",
    "print('Base Model Accuracy: ', accuracy_score(y_test, y_pred))\n",
    "print('Base Model Precision: ', precision_score(y_test, y_pred))\n",
    "print('Base Model Recall: ', recall_score(y_test, y_pred))"
   ]
  },
  {
   "cell_type": "code",
   "execution_count": null,
   "metadata": {},
   "outputs": [],
   "source": []
  },
  {
   "cell_type": "markdown",
   "metadata": {},
   "source": [
    "### Step - 3: Perform proper hyperparameter tuning for each model from Step - 2 😢"
   ]
  },
  {
   "cell_type": "markdown",
   "metadata": {},
   "source": [
    "### Logistic Regression Hyper parameter Tuning"
   ]
  },
  {
   "cell_type": "code",
   "execution_count": 35,
   "metadata": {},
   "outputs": [
    {
     "name": "stdout",
     "output_type": "stream",
     "text": [
      "Base Model Accuarcy :  57.30858468677494 %\n",
      "Base Model precision :  0.49038461538461536\n",
      "Standred Scaller Base recall :  0.2802197802197802\n",
      "0.5993031358885017 \n",
      " Best Parameter:  {'solver': 'liblinear', 'penalty': 'l1', 'max_iter': 140, 'dual': False, 'C': 0.1} \n",
      "Best Estimator LogisticRegression(C=0.1, max_iter=140, penalty='l1', solver='liblinear')\n",
      "After HyperTunning Model Accuarcy :  57.30858468677494 %\n",
      "After HyperTunning Model precision :  0.49038461538461536\n",
      "After HyperTunning Model recall :  0.2802197802197802\n"
     ]
    }
   ],
   "source": [
    "from sklearn.model_selection import train_test_split\n",
    "X_train, X_test, y_train, y_test  =train_test_split(X,y,test_size=0.2, random_state=2)\n",
    "\n",
    "from sklearn.metrics import accuracy_score,precision_score,recall_score,confusion_matrix\n",
    "\n",
    "\n",
    "from sklearn.linear_model import LogisticRegression\n",
    "logreg = LogisticRegression()\n",
    "logreg.fit(X_train,y_train)\n",
    "y_pred = logreg.predict(X_test)\n",
    "\n",
    "print('Base Model Accuarcy : ',accuracy_score(y_test,y_pred)*100,'%')\n",
    "print('Base Model precision : ',precision_score(y_test,y_pred))\n",
    "print('Standred Scaller Base recall : ',recall_score(y_test,y_pred))\n",
    "\n",
    "\n",
    "#Random Search\n",
    "from sklearn.model_selection import RandomizedSearchCV\n",
    "param_grid = {\"C\":np.logspace(-3,3,7),\n",
    "              \"penalty\":['l1','l2'],\n",
    "              'solver': ['newton-cg','lbfgs', 'liblinear'],\n",
    "              'dual' : [True, False],\n",
    "              'max_iter' : [100,110,120,130,140]}\n",
    "\n",
    "random = RandomizedSearchCV(estimator=logreg, param_distributions=param_grid, cv = 3, n_jobs=-1)\n",
    "random_result = random.fit(X_train,y_train)\n",
    "grid = random.best_estimator_\n",
    "\n",
    "\n",
    "print(random_result.best_score_,'\\n','Best Parameter: ',  random_result.best_params_,'\\nBest Estimator', random_result.best_estimator_)\n",
    "\n",
    "\n",
    "#Model with Best Parameter\n",
    "grid.fit(X_train,y_train)\n",
    "y_pred = logreg.predict(X_test)\n",
    "\n",
    "print('After HyperTunning Model Accuarcy : ',accuracy_score(y_test,y_pred)*100,'%')\n",
    "print('After HyperTunning Model precision : ',precision_score(y_test,y_pred))\n",
    "print('After HyperTunning Model recall : ',recall_score(y_test,y_pred))"
   ]
  },
  {
   "cell_type": "markdown",
   "metadata": {},
   "source": [
    "### SVM Hyper parameter Tuning"
   ]
  },
  {
   "cell_type": "code",
   "execution_count": null,
   "metadata": {},
   "outputs": [
    {
     "name": "stdout",
     "output_type": "stream",
     "text": [
      "Base Model Accuracy:  0.5777262180974478\n",
      "Base Model Precision:  0.0\n",
      "Base Model Recall:  0.0\n"
     ]
    }
   ],
   "source": [
    "#SVM kernal Linear Classification\n",
    "\n",
    "from sklearn import svm\n",
    "from sklearn import metrics\n",
    "\n",
    "\n",
    "svmlinear = svm.SVC(kernel ='linear')\n",
    "svmlinear.fit(X_train,y_train)\n",
    "y_pred = svmlinear.predict(X_test)\n",
    "\n",
    "print('Base Model Accuracy: ', accuracy_score(y_test, y_pred))\n",
    "print('Base Model Precision: ', precision_score(y_test, y_pred))\n",
    "print('Base Model Recall: ', recall_score(y_test, y_pred))\n",
    "\n",
    "\n",
    "#Random Search\n",
    "from sklearn.model_selection import RandomizedSearchCV\n",
    "\n",
    "param_grid = {'kernel' :['linear'],\"C\":np.logspace(-2,10,5), \"gamma\":np.logspace(-9,3,5)}\n",
    "\n",
    "\n",
    "random = RandomizedSearchCV(estimator=svmlinear, param_distributions=param_grid, cv = 3, n_jobs=-1)\n",
    "random_result = random.fit(X_train,y_train)\n",
    "grid = randm_model.best_estimator_\n",
    "\n",
    "\n",
    "print(random_result.best_score_,'\\n','Best Parameter: ',  random_result.best_params_,'\\nBest Estimator', random_result.best_estimator_)\n",
    "\n",
    "\n",
    "#Model with Best Parameter\n",
    "grid.fit(X_train,y_train)\n",
    "y_pred = svmlinear.predict(X_test)\n",
    "\n",
    "print('After HyperTunning Model Accuarcy : ',accuracy_score(y_test,y_pred)*100,'%')\n",
    "print('After HyperTunning Model precision : ',precision_score(y_test,y_pred))\n",
    "print('After HyperTunning Model recall : ',recall_score(y_test,y_pred))\n",
    "\n",
    "\n"
   ]
  },
  {
   "cell_type": "markdown",
   "metadata": {},
   "source": [
    "### KNN Hyper prarameter Tunning"
   ]
  },
  {
   "cell_type": "code",
   "execution_count": 37,
   "metadata": {},
   "outputs": [
    {
     "name": "stdout",
     "output_type": "stream",
     "text": [
      "Base Model Accuracy:  0.6496519721577726\n",
      "Base Model Precision:  0.5875706214689266\n",
      "Base Model Recall:  0.5714285714285714\n",
      "0.667828106852497 \n",
      " Best Parameter:  {'weights': 'distance', 'n_neighbors': 13, 'metric': 'manhattan'} \n",
      "Best Estimator KNeighborsClassifier(metric='manhattan', n_neighbors=13, weights='distance')\n",
      "After HyperTunning Model Accuarcy :  64.96519721577727 %\n",
      "After HyperTunning Model precision :  0.5875706214689266\n",
      "After HyperTunning Model recall :  0.5714285714285714\n"
     ]
    }
   ],
   "source": [
    "from sklearn.neighbors import KNeighborsClassifier\n",
    "\n",
    "knn = KNeighborsClassifier()\n",
    "knn.fit(X_train, y_train)\n",
    "y_pred = knn.predict(X_test)\n",
    "\n",
    "\n",
    "print('Base Model Accuracy: ', accuracy_score(y_test, y_pred))\n",
    "print('Base Model Precision: ', precision_score(y_test, y_pred))\n",
    "print('Base Model Recall: ', recall_score(y_test, y_pred))\n",
    "\n",
    "\n",
    "\n",
    "#Random Search\n",
    "from sklearn.model_selection import RandomizedSearchCV\n",
    "\n",
    "param_grid = { 'n_neighbors' : [5,7,9,11,13,15],\n",
    "               'weights' : ['uniform','distance'],\n",
    "               'metric' : ['minkowski','euclidean','manhattan']}\n",
    "\n",
    "\n",
    "random = RandomizedSearchCV(estimator = knn, param_distributions=param_grid, cv = 3, n_jobs=-1)\n",
    "random_result = random.fit(X_train,y_train)\n",
    "grid = random.best_estimator_\n",
    "\n",
    "\n",
    "print(random_result.best_score_,'\\n','Best Parameter: ',  random_result.best_params_,'\\nBest Estimator', random_result.best_estimator_)\n",
    "\n",
    "\n",
    "#Model with Best Parameter\n",
    "grid.fit(X_train,y_train)\n",
    "y_pred =knn.predict(X_test)\n",
    "\n",
    "print('After HyperTunning Model Accuarcy : ',accuracy_score(y_test,y_pred)*100,'%')\n",
    "print('After HyperTunning Model precision : ',precision_score(y_test,y_pred))\n",
    "print('After HyperTunning Model recall : ',recall_score(y_test,y_pred))\n",
    "\n",
    "\n",
    "\n"
   ]
  },
  {
   "cell_type": "markdown",
   "metadata": {},
   "source": [
    "### Decision Tree Hyper parameter Tuning"
   ]
  },
  {
   "cell_type": "code",
   "execution_count": 40,
   "metadata": {},
   "outputs": [
    {
     "name": "stdout",
     "output_type": "stream",
     "text": [
      "Base Model Accuracy:  0.9071925754060325\n",
      "Base Model Precision:  0.8944444444444445\n",
      "Base Model Recall:  0.8846153846153846\n",
      "0.9233449477351917 \n",
      " Best Parameter:  {'min_samples_leaf': 50, 'max_depth': 5, 'criterion': 'entropy'} \n",
      "Best Estimator DecisionTreeClassifier(criterion='entropy', max_depth=5, min_samples_leaf=50)\n",
      "After HyperTunning Model Accuarcy :  90.71925754060325 %\n",
      "After HyperTunning Model precision :  0.8944444444444445\n",
      "After HyperTunning Model recall :  0.8846153846153846\n"
     ]
    }
   ],
   "source": [
    "from sklearn.tree import DecisionTreeClassifier\n",
    "dtreg = DecisionTreeClassifier()\n",
    "dtreg.fit(X_train, y_train)\n",
    "y_pred = dtreg.predict(X_test)\n",
    "\n",
    "print('Base Model Accuracy: ', accuracy_score(y_test, y_pred))\n",
    "print('Base Model Precision: ', precision_score(y_test, y_pred))\n",
    "print('Base Model Recall: ', recall_score(y_test, y_pred))\n",
    "\n",
    "\n",
    "#Random Search\n",
    "from sklearn.model_selection import RandomizedSearchCV\n",
    "\n",
    "param_grid = {'criterion': ['gini','entropy'],\n",
    "            'max_depth' : [2,3,5,10,20],\n",
    "            'min_samples_leaf': [5, 10, 20, 50, 100]}\n",
    "\n",
    "\n",
    "random = RandomizedSearchCV(estimator = dtreg, param_distributions=param_grid, cv = 3, n_jobs=-1)\n",
    "random_result = random.fit(X_train,y_train)\n",
    "grid = random.best_estimator_\n",
    "\n",
    "\n",
    "print(random_result.best_score_,'\\n','Best Parameter: ',  random_result.best_params_,'\\nBest Estimator', random_result.best_estimator_)\n",
    "\n",
    "\n",
    "#Model with Best Parameter\n",
    "grid.fit(X_train,y_train)\n",
    "y_pred =dtreg.predict(X_test)\n",
    "\n",
    "print('After HyperTunning Model Accuarcy : ',accuracy_score(y_test,y_pred)*100,'%')\n",
    "print('After HyperTunning Model precision : ',precision_score(y_test,y_pred))\n",
    "print('After HyperTunning Model recall : ',recall_score(y_test,y_pred))\n",
    "\n",
    "\n",
    "\n"
   ]
  },
  {
   "cell_type": "markdown",
   "metadata": {},
   "source": [
    "### Interpretation\n",
    "### Decision Tree Has the Highest Accuracy of 90.71 in comparing to all other Techniques\n"
   ]
  },
  {
   "cell_type": "code",
   "execution_count": null,
   "metadata": {},
   "outputs": [],
   "source": []
  }
 ],
 "metadata": {
  "kernelspec": {
   "display_name": "Python 3",
   "language": "python",
   "name": "python3"
  },
  "language_info": {
   "codemirror_mode": {
    "name": "ipython",
    "version": 3
   },
   "file_extension": ".py",
   "mimetype": "text/x-python",
   "name": "python",
   "nbconvert_exporter": "python",
   "pygments_lexer": "ipython3",
   "version": "3.8.5"
  }
 },
 "nbformat": 4,
 "nbformat_minor": 4
}
